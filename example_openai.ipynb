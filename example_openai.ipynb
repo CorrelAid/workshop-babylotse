{
 "cells": [
  {
   "cell_type": "code",
   "execution_count": 2,
   "metadata": {},
   "outputs": [],
   "source": [
    "from dotenv import load_dotenv\n",
    "from openai import OpenAI"
   ]
  },
  {
   "cell_type": "code",
   "execution_count": 3,
   "metadata": {},
   "outputs": [
    {
     "data": {
      "text/plain": [
       "True"
      ]
     },
     "execution_count": 3,
     "metadata": {},
     "output_type": "execute_result"
    }
   ],
   "source": [
    "load_dotenv()"
   ]
  },
  {
   "cell_type": "code",
   "execution_count": 4,
   "metadata": {},
   "outputs": [],
   "source": [
    "client = OpenAI()"
   ]
  },
  {
   "cell_type": "code",
   "execution_count": 5,
   "metadata": {},
   "outputs": [
    {
     "name": "stdout",
     "output_type": "stream",
     "text": [
      "ChatCompletionMessage(content='In the realm of code where logic is king,  \\nA dance unfolds, a recursive fling.  \\nLike a mirror reflecting its own shining face,  \\nA function calls back to embrace its own grace.\\n\\nOnce upon a time in the land of a task,  \\nA problem seemed grand, and too much to mask.  \\nBut worry not, for here comes a friend,  \\nA recursive function, on which we depend.\\n\\n\"Let’s break it down!\" the wise old code said,  \\n\"Into smaller pieces, let’s move ahead.  \\nIf the case is simple, then return with delight,  \\nBut if not, dear child, let’s delve into the night.\"\\n\\nWith each layer summoned, a call to the deep,  \\nLike Russian dolls nesting, awake from their sleep.  \\nEach call holds a task, each exit a spark,  \\nTill the base case is reached, illuminating the dark.\\n\\nSo think of the tree, branches spread wide,  \\nWith each recursion, we joyously stride.  \\nWe build up the answer, step by step set,  \\nThe journey is winding, but a path we won\\'t forget.\\n\\nOh, how beautiful recursion can be,  \\nLike echoes in mountains, a sweet symphony.  \\nYet guard against depth, for too far we may roam,  \\nLoss in the stack can lead far from home.\\n\\nSo cherish the cycles, embrace the repeat,  \\nIn the tapestry woven, it’s truly a feat.  \\nRecursion, dear coder, a treasure profound,  \\nIn the labyrinth of logic, where solutions are found.', refusal=None, role='assistant', function_call=None, tool_calls=None)\n"
     ]
    }
   ],
   "source": [
    "completion = client.chat.completions.create(\n",
    "    model=\"gpt-4o-mini\",\n",
    "    messages=[\n",
    "        {\n",
    "            \"role\": \"system\",\n",
    "            \"content\": \"You are a poetic assistant, skilled in explaining complex programming concepts with creative flair.\",\n",
    "        },\n",
    "        {\n",
    "            \"role\": \"user\",\n",
    "            \"content\": \"Compose a poem that explains the concept of recursion in programming.\",\n",
    "        },\n",
    "    ],\n",
    ")\n",
    "\n",
    "print(completion.choices[0].message)"
   ]
  },
  {
   "cell_type": "code",
   "execution_count": 7,
   "metadata": {},
   "outputs": [
    {
     "data": {
      "text/plain": [
       "CompletionUsage(completion_tokens=313, prompt_tokens=39, total_tokens=352, completion_tokens_details=CompletionTokensDetails(audio_tokens=None, reasoning_tokens=0), prompt_tokens_details=PromptTokensDetails(audio_tokens=None, cached_tokens=0))"
      ]
     },
     "execution_count": 7,
     "metadata": {},
     "output_type": "execute_result"
    }
   ],
   "source": [
    "completion.usage"
   ]
  },
  {
   "cell_type": "code",
   "execution_count": 8,
   "metadata": {},
   "outputs": [
    {
     "data": {
      "text/plain": [
       "'stop'"
      ]
     },
     "execution_count": 8,
     "metadata": {},
     "output_type": "execute_result"
    }
   ],
   "source": [
    "completion.choices[0].finish_reason"
   ]
  },
  {
   "cell_type": "code",
   "execution_count": 10,
   "metadata": {},
   "outputs": [
    {
     "name": "stdout",
     "output_type": "stream",
     "text": [
      "In the realm of code where logic is king,  \n",
      "A dance unfolds, a recursive fling.  \n",
      "Like a mirror reflecting its own shining face,  \n",
      "A function calls back to embrace its own grace.\n",
      "\n",
      "Once upon a time in the land of a task,  \n",
      "A problem seemed grand, and too much to mask.  \n",
      "But worry not, for here comes a friend,  \n",
      "A recursive function, on which we depend.\n",
      "\n",
      "\"Let’s break it down!\" the wise old code said,  \n",
      "\"Into smaller pieces, let’s move ahead.  \n",
      "If the case is simple, then return with delight,  \n",
      "But if not, dear child, let’s delve into the night.\"\n",
      "\n",
      "With each layer summoned, a call to the deep,  \n",
      "Like Russian dolls nesting, awake from their sleep.  \n",
      "Each call holds a task, each exit a spark,  \n",
      "Till the base case is reached, illuminating the dark.\n",
      "\n",
      "So think of the tree, branches spread wide,  \n",
      "With each recursion, we joyously stride.  \n",
      "We build up the answer, step by step set,  \n",
      "The journey is winding, but a path we won't forget.\n",
      "\n",
      "Oh, how beautiful recursion can be,  \n",
      "Like echoes in mountains, a sweet symphony.  \n",
      "Yet guard against depth, for too far we may roam,  \n",
      "Loss in the stack can lead far from home.\n",
      "\n",
      "So cherish the cycles, embrace the repeat,  \n",
      "In the tapestry woven, it’s truly a feat.  \n",
      "Recursion, dear coder, a treasure profound,  \n",
      "In the labyrinth of logic, where solutions are found.\n"
     ]
    }
   ],
   "source": [
    "print(completion.choices[0].message.content)"
   ]
  }
 ],
 "metadata": {
  "kernelspec": {
   "display_name": ".venv",
   "language": "python",
   "name": "python3"
  },
  "language_info": {
   "codemirror_mode": {
    "name": "ipython",
    "version": 3
   },
   "file_extension": ".py",
   "mimetype": "text/x-python",
   "name": "python",
   "nbconvert_exporter": "python",
   "pygments_lexer": "ipython3",
   "version": "3.12.7"
  }
 },
 "nbformat": 4,
 "nbformat_minor": 2
}
