{
 "cells": [
  {
   "cell_type": "markdown",
   "metadata": {},
   "source": [
    "## Testing local LLM with Ollama\n",
    "\n",
    "Install from https://ollama.com/.\n",
    "\n",
    "Models: https://ollama.com/library\n",
    "\n",
    "Ollama Python library: https://github.com/ollama/ollama-python\n",
    "\n",
    "API: https://github.com/ollama/ollama/blob/main/docs/api.md\n"
   ]
  },
  {
   "cell_type": "code",
   "execution_count": 1,
   "metadata": {},
   "outputs": [],
   "source": [
    "import ollama\n",
    "import prompt"
   ]
  },
  {
   "cell_type": "code",
   "execution_count": 3,
   "metadata": {},
   "outputs": [
    {
     "name": "stdout",
     "output_type": "stream",
     "text": [
      "\u001b[?25lpulling manifest ⠋ \u001b[?25h\u001b[?25l\u001b[2K\u001b[1Gpulling manifest ⠙ \u001b[?25h\u001b[?25l\u001b[2K\u001b[1Gpulling manifest ⠹ \u001b[?25h\u001b[?25l\u001b[2K\u001b[1Gpulling manifest ⠸ \u001b[?25h\u001b[?25l\u001b[2K\u001b[1Gpulling manifest ⠼ \u001b[?25h\u001b[?25l\u001b[2K\u001b[1Gpulling manifest ⠴ \u001b[?25h\u001b[?25l\u001b[2K\u001b[1Gpulling manifest ⠦ \u001b[?25h\u001b[?25l\u001b[2K\u001b[1Gpulling manifest ⠧ \u001b[?25h\u001b[?25l\u001b[2K\u001b[1Gpulling manifest \n",
      "pulling 7462734796d6... 100% ▕████████████████▏ 1.6 GB                         \n",
      "pulling e0a42594d802... 100% ▕████████████████▏  358 B                         \n",
      "pulling 097a36493f71... 100% ▕████████████████▏ 8.4 KB                         \n",
      "pulling 2490e7468436... 100% ▕████████████████▏   65 B                         \n",
      "pulling e18ad7af7efb... 100% ▕████████████████▏  487 B                         \n",
      "verifying sha256 digest \n",
      "writing manifest \n",
      "success \u001b[?25h\n"
     ]
    }
   ],
   "source": [
    "!ollama pull gemma2:2b"
   ]
  },
  {
   "cell_type": "code",
   "execution_count": 5,
   "metadata": {},
   "outputs": [
    {
     "name": "stdout",
     "output_type": "stream",
     "text": [
      "\u001b[?25l⠋ \u001b[?25h\u001b[?25l\u001b[2K\u001b[1G⠹ \u001b[?25h\u001b[?25l\u001b[2K\u001b[1G⠸ \u001b[?25h\u001b[?25l\u001b[2K\u001b[1G⠼ \u001b[?25h\u001b[?25l\u001b[2K\u001b[1G⠴ \u001b[?25h\u001b[?25l\u001b[2K\u001b[1G⠦ \u001b[?25h\u001b[?25l\u001b[2K\u001b[1G⠧ \u001b[?25h\u001b[?25l\u001b[2K\u001b[1G⠇ \u001b[?25h\u001b[?25l\u001b[2K\u001b[1G⠏ \u001b[?25h\u001b[?25l\u001b[2K\u001b[1G⠋ \u001b[?25h\u001b[?25l\u001b[2K\u001b[1G⠙ \u001b[?25h\u001b[?25l\u001b[2K\u001b[1G⠹ \u001b[?25h\u001b[?25l\u001b[2K\u001b[1G⠸ \u001b[?25h\u001b[?25l\u001b[2K\u001b[1G⠼ \u001b[?25h\u001b[?25l\u001b[2K\u001b[1G⠴ \u001b[?25h\u001b[?25l\u001b[2K\u001b[1G⠦ \u001b[?25h\u001b[?25l\u001b[2K\u001b[1G⠧ \u001b[?25h\u001b[?25l\u001b[2K\u001b[1G⠇ \u001b[?25h\u001b[?25l\u001b[2K\u001b[1G⠏ \u001b[?25h\u001b[?25l\u001b[2K\u001b[1G⠋ \u001b[?25h\u001b[?25l\u001b[2K\u001b[1G⠙ \u001b[?25h\u001b[?25l\u001b[2K\u001b[1G⠹ \u001b[?25h\u001b[?25l\u001b[2K\u001b[1G⠸ \u001b[?25h\u001b[?25l\u001b[2K\u001b[1G⠼ \u001b[?25h\u001b[?25l\u001b[2K\u001b[1G⠴ \u001b[?25h\u001b[?25l\u001b[2K\u001b[1G⠦ \u001b[?25h\u001b[?25l\u001b[2K\u001b[1G⠧ \u001b[?25h\u001b[?25l\u001b[2K\u001b[1G⠇ \u001b[?25h\u001b[?25l\u001b[2K\u001b[1G⠏ \u001b[?25h\u001b[?25l\u001b[?25l\u001b[2K\u001b[1G\u001b[?25h\u001b[2K\u001b[1G\u001b[?25h\u001b[?2004h>>> \u001b[38;5;245mSend a message (/? for help)\u001b[28D\u001b[0m\u001b[K\n",
      "Use Ctrl + d or /bye to exit.\n",
      ">>> \u001b[38;5;245mSend a message (/? for help)\u001b[28D\u001b[0m\u001b[K\n",
      ">>> \u001b[38;5;245mSend a message (/? for help)\u001b[28D\u001b[0m"
     ]
    }
   ],
   "source": [
    "# !ollama run gemma2:2b # but not in here, use the terminal"
   ]
  },
  {
   "cell_type": "code",
   "execution_count": 23,
   "metadata": {},
   "outputs": [],
   "source": [
    "model = \"gemma2:2b\"\n",
    "resp = ollama.generate(\n",
    "    model,\n",
    "    prompt=\"What are common categories that can be used to categorize answers from a survey about the family life with a baby in a big city?\",\n",
    "    options={\"temperature\": 0.1},\n",
    ")"
   ]
  },
  {
   "cell_type": "markdown",
   "metadata": {},
   "source": [
    "The final response in the stream also includes additional data about the generation:\n",
    "\n",
    "- total_duration: time spent generating the response\n",
    "- load_duration: time spent in nanoseconds loading the model\n",
    "- prompt_eval_count: number of tokens in the prompt\n",
    "- prompt_eval_duration: time spent in nanoseconds evaluating the prompt\n",
    "- eval_count: number of tokens in the response\n",
    "- eval_duration: time in nanoseconds spent generating the response\n",
    "- context: an encoding of the conversation used in this response, this can be sent in the next request to keep a conversational memory\n",
    "- response: empty if the response was streamed, if not streamed, this will contain the full response\n"
   ]
  },
  {
   "cell_type": "code",
   "execution_count": 24,
   "metadata": {},
   "outputs": [
    {
     "data": {
      "text/plain": [
       "198.6221175"
      ]
     },
     "execution_count": 24,
     "metadata": {},
     "output_type": "execute_result"
    }
   ],
   "source": [
    "resp[\"total_duration\"] * 10e-9"
   ]
  },
  {
   "cell_type": "code",
   "execution_count": 25,
   "metadata": {},
   "outputs": [
    {
     "data": {
      "text/plain": [
       "0.58349458"
      ]
     },
     "execution_count": 25,
     "metadata": {},
     "output_type": "execute_result"
    }
   ],
   "source": [
    "resp[\"load_duration\"] * 10e-9"
   ]
  },
  {
   "cell_type": "code",
   "execution_count": 26,
   "metadata": {},
   "outputs": [
    {
     "data": {
      "text/plain": [
       "35"
      ]
     },
     "execution_count": 26,
     "metadata": {},
     "output_type": "execute_result"
    }
   ],
   "source": [
    "resp[\"prompt_eval_count\"]"
   ]
  },
  {
   "cell_type": "code",
   "execution_count": 27,
   "metadata": {},
   "outputs": [
    {
     "data": {
      "text/plain": [
       "668"
      ]
     },
     "execution_count": 27,
     "metadata": {},
     "output_type": "execute_result"
    }
   ],
   "source": [
    "resp[\"eval_count\"]"
   ]
  },
  {
   "cell_type": "code",
   "execution_count": 28,
   "metadata": {},
   "outputs": [
    {
     "data": {
      "text/plain": [
       "183.34756000000002"
      ]
     },
     "execution_count": 28,
     "metadata": {},
     "output_type": "execute_result"
    }
   ],
   "source": [
    "resp[\"eval_duration\"] * 10e-9"
   ]
  },
  {
   "cell_type": "code",
   "execution_count": 29,
   "metadata": {},
   "outputs": [
    {
     "data": {
      "text/plain": [
       "True"
      ]
     },
     "execution_count": 29,
     "metadata": {},
     "output_type": "execute_result"
    }
   ],
   "source": [
    "resp[\"done\"]"
   ]
  },
  {
   "cell_type": "code",
   "execution_count": 30,
   "metadata": {},
   "outputs": [
    {
     "name": "stdout",
     "output_type": "stream",
     "text": [
      "Here's a breakdown of common categories for categorizing survey answers about family life with a baby in a big city, along with some sub-categories:\n",
      "\n",
      "**I.  Family Dynamics & Support:**\n",
      "\n",
      "* **Living Situation:** \n",
      "    * Urban Apartment/Condo vs. House/Homeownership\n",
      "    * Family support network (e.g., extended family nearby)\n",
      "    * Single parent vs. co-parenting\n",
      "    * Housing affordability and accessibility\n",
      "* **Work-Life Balance:**\n",
      "    * Flexibility of work schedule\n",
      "    * Availability of childcare options \n",
      "    * Impact on career progression\n",
      "    * Financial strain due to childcare costs\n",
      "* **Social Life & Community:**\n",
      "    * Frequency of social gatherings with other parents\n",
      "    * Access to parks, playgrounds, and family-friendly activities\n",
      "    * Sense of community within the city (e.g., neighborhood groups)\n",
      "\n",
      "**II.  Baby Care & Resources:**\n",
      "\n",
      "* **Childcare Options:** \n",
      "    * Type of childcare (nannies, daycare centers, in-home care)\n",
      "    * Cost of childcare and accessibility\n",
      "    * Quality and availability of childcare options\n",
      "* **Healthcare Access:**\n",
      "    * Proximity to hospitals and clinics\n",
      "    * Insurance coverage for baby's healthcare needs\n",
      "    * Ease of access to specialized medical services (e.g., pediatricians, specialists)\n",
      "* **Baby Supplies & Resources:** \n",
      "    * Availability of baby stores and online retailers\n",
      "    * Cost of essential baby supplies (e.g., diapers, formula, clothes)\n",
      "    * Access to support groups or resources for new parents\n",
      "\n",
      "**III.  Challenges & Adaptation:**\n",
      "\n",
      "* **Stress Levels:**\n",
      "    * Emotional stress related to parenthood in a big city\n",
      "    * Financial strain and cost of living\n",
      "    * Time management challenges \n",
      "* **Social Isolation:**\n",
      "    * Difficulty connecting with other parents\n",
      "    * Feeling overwhelmed by the pace of life\n",
      "    * Lack of support networks\n",
      "* **Environmental Factors:**\n",
      "    * Noise pollution, traffic congestion, air quality\n",
      "    * Limited green spaces and outdoor activities for baby\n",
      "    * Safety concerns in the city\n",
      "\n",
      "**IV.  Positive Aspects & Experiences:**\n",
      "\n",
      "* **City Advantages:** \n",
      "    * Access to cultural events, museums, and entertainment\n",
      "    * Diverse food scene and culinary experiences\n",
      "    * Opportunities for social interaction with other parents\n",
      "    * Convenience of public transportation and services\n",
      "* **Personal Growth:** \n",
      "    * Sense of accomplishment and personal development as a parent\n",
      "    * New perspectives on life and family dynamics\n",
      "    * Increased awareness of city living and its challenges\n",
      "* **Community & Support:** \n",
      "    * Positive experiences with other parents in the city\n",
      "    * Access to support groups, online forums, or local communities\n",
      "\n",
      "\n",
      "**Additional Considerations:**\n",
      "\n",
      "* **Age of Baby:**  Categorize responses based on age (newborn, infant, toddler) for more specific insights.\n",
      "* **Cultural Background:**  Consider if cultural background influences family life and experiences. \n",
      "* **Income Level:**  Explore the relationship between income level and access to resources and support systems.\n",
      "\n",
      "\n",
      "Remember: These categories are a starting point. You can tailor them based on your survey's objectives and target audience.\n"
     ]
    }
   ],
   "source": [
    "print(resp[\"response\"])"
   ]
  },
  {
   "cell_type": "code",
   "execution_count": 2,
   "metadata": {},
   "outputs": [],
   "source": [
    "final_categories = [\n",
    "    \"Public Accessibility and Transportation\",\n",
    "    \"Childcare and Early Education Resources\",\n",
    "    \"Family and Community Support Services\",\n",
    "    \"Family-Friendly Amenities and Facilities\",\n",
    "    \"Family Activities and Community Programs\",\n",
    "    \"Parks, Playgrounds, and Green Spaces\",\n",
    "    \"Healthcare Access, Services, and Facilities\",\n",
    "    \"Safety, Cleanliness, and Facility Maintenance\",\n",
    "    \"Community Social and Networking Opportunities\",\n",
    "    \"Service Information and Resource Availability\",\n",
    "    \"Housing Affordability and Availability\",\n",
    "    \"Bureaucratic Processes and Delays\",\n",
    "    \"Mental Health and Well-being\",\n",
    "]"
   ]
  },
  {
   "cell_type": "code",
   "execution_count": 3,
   "metadata": {},
   "outputs": [
    {
     "name": "stdout",
     "output_type": "stream",
     "text": [
      "\n",
      "You are a helpful assistant and expert in survey evaluations. The Kinderschutzbund Bezirksverband Frankfurt advises families with newborns at all Frankfurt maternity wards. The association would like to know how families with babies are doing here in Frankfurt.\n",
      "\n",
      "Categorize the comment according to the given list. You can assign multiple categories. Only use the given categories and no other label. If no category fits, output an empty list.\n",
      "\n",
      "List of categories:\n",
      "###\n",
      "Public Accessibility and Transportation,Childcare and Early Education Resources,Family and Community Support Services,Family-Friendly Amenities and Facilities,Family Activities and Community Programs,Parks, Playgrounds, and Green Spaces,Healthcare Access, Services, and Facilities,Safety, Cleanliness, and Facility Maintenance,Community Social and Networking Opportunities,Service Information and Resource Availability,Housing Affordability and Availability,Bureaucratic Processes and Delays,Mental Health and Well-being\n",
      "###\n",
      "\n",
      "Output your answer as a simple list:\n",
      "[Category1, Category2, ...]\n",
      "\n"
     ]
    }
   ],
   "source": [
    "print(prompt.SYSTEM_PROMPT_CLASSIFY.format(categories=\",\".join(final_categories)))"
   ]
  },
  {
   "cell_type": "code",
   "execution_count": 11,
   "metadata": {},
   "outputs": [],
   "source": [
    "model = \"gemma2:2b\"\n",
    "comment = \"Schwierige Kitasituation, nicht viele Plätze, Spielplätze sind rar und dreckig, Verkehr ist oft gefährlich, wenig soziale Unterstützung.\"\n",
    "\n",
    "resp = ollama.generate(\n",
    "    model,\n",
    "    prompt=comment,\n",
    "    system=prompt.SYSTEM_PROMPT_CLASSIFY.format(categories=\",\".join(final_categories)),\n",
    "    options={\"temperature\": 0},\n",
    ")"
   ]
  },
  {
   "cell_type": "code",
   "execution_count": 12,
   "metadata": {},
   "outputs": [
    {
     "data": {
      "text/plain": [
       "True"
      ]
     },
     "execution_count": 12,
     "metadata": {},
     "output_type": "execute_result"
    }
   ],
   "source": [
    "resp[\"done\"]"
   ]
  },
  {
   "cell_type": "code",
   "execution_count": 13,
   "metadata": {},
   "outputs": [
    {
     "data": {
      "text/plain": [
       "32"
      ]
     },
     "execution_count": 13,
     "metadata": {},
     "output_type": "execute_result"
    }
   ],
   "source": [
    "resp[\"eval_count\"]"
   ]
  },
  {
   "cell_type": "code",
   "execution_count": 14,
   "metadata": {},
   "outputs": [
    {
     "data": {
      "text/plain": [
       "'[Family and Community Support Services, Family-Friendly Amenities and Facilities, Safety, Cleanliness, and Facility Maintenance, Community Social and Networking Opportunities] \\n'"
      ]
     },
     "execution_count": 14,
     "metadata": {},
     "output_type": "execute_result"
    }
   ],
   "source": [
    "resp[\"response\"]"
   ]
  },
  {
   "cell_type": "code",
   "execution_count": 19,
   "metadata": {},
   "outputs": [
    {
     "data": {
      "text/plain": [
       "['Family and Community Support Services',\n",
       " 'Family-Friendly Amenities and Facilities',\n",
       " 'Safety, Cleanliness, and Facility Maintenance',\n",
       " 'Community Social and Networking Opportunities']"
      ]
     },
     "execution_count": 19,
     "metadata": {},
     "output_type": "execute_result"
    }
   ],
   "source": [
    "[x for x in final_categories if x in resp[\"response\"]]"
   ]
  }
 ],
 "metadata": {
  "kernelspec": {
   "display_name": "babylotse",
   "language": "python",
   "name": "python3"
  },
  "language_info": {
   "codemirror_mode": {
    "name": "ipython",
    "version": 3
   },
   "file_extension": ".py",
   "mimetype": "text/x-python",
   "name": "python",
   "nbconvert_exporter": "python",
   "pygments_lexer": "ipython3",
   "version": "3.12.4"
  }
 },
 "nbformat": 4,
 "nbformat_minor": 2
}
