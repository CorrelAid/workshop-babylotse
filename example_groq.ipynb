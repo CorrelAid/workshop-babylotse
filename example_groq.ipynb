{
 "cells": [
  {
   "cell_type": "code",
   "execution_count": 1,
   "metadata": {},
   "outputs": [],
   "source": [
    "from dotenv import load_dotenv\n",
    "from groq import Groq"
   ]
  },
  {
   "cell_type": "code",
   "execution_count": 2,
   "metadata": {},
   "outputs": [
    {
     "data": {
      "text/plain": [
       "True"
      ]
     },
     "execution_count": 2,
     "metadata": {},
     "output_type": "execute_result"
    }
   ],
   "source": [
    "load_dotenv()"
   ]
  },
  {
   "cell_type": "code",
   "execution_count": 4,
   "metadata": {},
   "outputs": [],
   "source": [
    "client = Groq()"
   ]
  },
  {
   "cell_type": "code",
   "execution_count": 5,
   "metadata": {},
   "outputs": [],
   "source": [
    "chat_completion = client.chat.completions.create(\n",
    "    messages=[\n",
    "        {\n",
    "            \"role\": \"user\",\n",
    "            \"content\": \"Explain the importance of fast language models\",\n",
    "        }\n",
    "    ],\n",
    "    model=\"llama3-8b-8192\",\n",
    ")"
   ]
  },
  {
   "cell_type": "code",
   "execution_count": 7,
   "metadata": {},
   "outputs": [
    {
     "data": {
      "text/plain": [
       "{'id': 'chatcmpl-735dee16-0086-4109-9aaf-dca3cd917f2e',\n",
       " 'choices': [Choice(finish_reason='stop', index=0, logprobs=None, message=ChatCompletionMessage(content='Fast language models, also known as high-performance language models, have become increasingly important in recent years due to their versatility and numerous applications across various industries. Some of the key reasons why fast language models are important include:\\n\\n1. **Scalability**: Fast language models can process large amounts of data and generate responses quickly, making them suitable for real-time applications such as chatbots, customer service platforms, and natural language interfaces.\\n2. **Real-time Processing**: With the ability to process large amounts of data in real-time, fast language models can provide instant responses, enabling applications like real-time language translation, sentiment analysis, and text summarization.\\n3. **Handling Large Data Sets**: Fast language models can handle large data sets, enabling applications like data analysis, information retrieval, and text classification to scale to unprecedented levels.\\n4. **Improve User Experience**: Fast language models can improve the user experience by providing rapid responses to queries, enabling seamless communication, and reducing the latency associated with language processing.\\n5. **Support for Edge Computing**: Fast language models can run on edge devices, enabling applications like augmented reality, autonomous vehicles, and smart home devices to rely on local processing, reducing latency and improving responsiveness.\\n6. **Competitive Advantage**: Companies that invest in fast language models can gain a competitive advantage in their respective industries by developing innovative applications, improving customer experience, and increasing efficiency.\\n7. **Research and Development**: Fast language models enable researchers to explore new areas of natural language processing, such as multimodal learning, few-shot learning, and explainable AI, which can lead to breakthroughs in fields like healthcare, education, and finance.\\n8. **Automation**: Fast language models can automate various tasks, such as data entry, document processing, and customer service, freeing up human resources for more high-value tasks.\\n9. **Enhanced Security**: Fast language models can be used to improve cybersecurity by detecting and responding to threats in real-time, enabling better incident response, and enhancing overall network security.\\n10. **Advancements in AI**: Fast language models can help push the boundaries of artificial intelligence, enabling applications like AI-assisted decision-making, AI-powered analytics, and human-AI collaboration.\\n11. **Breaking Language Barriers**: Fast language models can help bridge language gaps by enabling real-time translation, machine translation, and speech recognition, improving global communication and collaboration.\\n12. **Increased Accessibility**: Fast language models can improve accessibility for people with disabilities by providing real-time captioning, speech-to-text functionality, and text-to-speech synthesis.\\n\\nIn summary, fast language models are crucial for many industries and applications, enabling faster, more accurate, and more efficient language processing. Their importance lies in their ability to scale, process large data sets, improve user experience, and support various use cases, ultimately driving innovation and competitiveness.', role='assistant', function_call=None, tool_calls=None))],\n",
       " 'created': 1728587284,\n",
       " 'model': 'llama3-8b-8192',\n",
       " 'object': 'chat.completion',\n",
       " 'system_fingerprint': 'fp_6a6771ae9c',\n",
       " 'usage': CompletionUsage(completion_tokens=568, prompt_tokens=18, total_tokens=586, completion_time=0.473333333, prompt_time=0.00183085, queue_time=0.012488309999999999, total_time=0.475164183)}"
      ]
     },
     "execution_count": 7,
     "metadata": {},
     "output_type": "execute_result"
    }
   ],
   "source": [
    "vars(chat_completion)"
   ]
  },
  {
   "cell_type": "code",
   "execution_count": 12,
   "metadata": {},
   "outputs": [
    {
     "data": {
      "text/plain": [
       "'stop'"
      ]
     },
     "execution_count": 12,
     "metadata": {},
     "output_type": "execute_result"
    }
   ],
   "source": [
    "chat_completion.choices[0].finish_reason"
   ]
  },
  {
   "cell_type": "code",
   "execution_count": 15,
   "metadata": {},
   "outputs": [
    {
     "name": "stdout",
     "output_type": "stream",
     "text": [
      "Fast language models, also known as high-performance language models, have become increasingly important in recent years due to their versatility and numerous applications across various industries. Some of the key reasons why fast language models are important include:\n",
      "\n",
      "1. **Scalability**: Fast language models can process large amounts of data and generate responses quickly, making them suitable for real-time applications such as chatbots, customer service platforms, and natural language interfaces.\n",
      "2. **Real-time Processing**: With the ability to process large amounts of data in real-time, fast language models can provide instant responses, enabling applications like real-time language translation, sentiment analysis, and text summarization.\n",
      "3. **Handling Large Data Sets**: Fast language models can handle large data sets, enabling applications like data analysis, information retrieval, and text classification to scale to unprecedented levels.\n",
      "4. **Improve User Experience**: Fast language models can improve the user experience by providing rapid responses to queries, enabling seamless communication, and reducing the latency associated with language processing.\n",
      "5. **Support for Edge Computing**: Fast language models can run on edge devices, enabling applications like augmented reality, autonomous vehicles, and smart home devices to rely on local processing, reducing latency and improving responsiveness.\n",
      "6. **Competitive Advantage**: Companies that invest in fast language models can gain a competitive advantage in their respective industries by developing innovative applications, improving customer experience, and increasing efficiency.\n",
      "7. **Research and Development**: Fast language models enable researchers to explore new areas of natural language processing, such as multimodal learning, few-shot learning, and explainable AI, which can lead to breakthroughs in fields like healthcare, education, and finance.\n",
      "8. **Automation**: Fast language models can automate various tasks, such as data entry, document processing, and customer service, freeing up human resources for more high-value tasks.\n",
      "9. **Enhanced Security**: Fast language models can be used to improve cybersecurity by detecting and responding to threats in real-time, enabling better incident response, and enhancing overall network security.\n",
      "10. **Advancements in AI**: Fast language models can help push the boundaries of artificial intelligence, enabling applications like AI-assisted decision-making, AI-powered analytics, and human-AI collaboration.\n",
      "11. **Breaking Language Barriers**: Fast language models can help bridge language gaps by enabling real-time translation, machine translation, and speech recognition, improving global communication and collaboration.\n",
      "12. **Increased Accessibility**: Fast language models can improve accessibility for people with disabilities by providing real-time captioning, speech-to-text functionality, and text-to-speech synthesis.\n",
      "\n",
      "In summary, fast language models are crucial for many industries and applications, enabling faster, more accurate, and more efficient language processing. Their importance lies in their ability to scale, process large data sets, improve user experience, and support various use cases, ultimately driving innovation and competitiveness.\n"
     ]
    }
   ],
   "source": [
    "print(chat_completion.choices[0].message.content)"
   ]
  }
 ],
 "metadata": {
  "kernelspec": {
   "display_name": "babylotse",
   "language": "python",
   "name": "python3"
  },
  "language_info": {
   "codemirror_mode": {
    "name": "ipython",
    "version": 3
   },
   "file_extension": ".py",
   "mimetype": "text/x-python",
   "name": "python",
   "nbconvert_exporter": "python",
   "pygments_lexer": "ipython3",
   "version": "3.12.4"
  }
 },
 "nbformat": 4,
 "nbformat_minor": 2
}
